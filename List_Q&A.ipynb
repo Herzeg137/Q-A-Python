{
  "nbformat": 4,
  "nbformat_minor": 0,
  "metadata": {
    "colab": {
      "private_outputs": true,
      "provenance": [],
      "authorship_tag": "ABX9TyM2iojgNAKXy+ciyDZwgJ/v",
      "include_colab_link": true
    },
    "kernelspec": {
      "name": "python3",
      "display_name": "Python 3"
    },
    "language_info": {
      "name": "python"
    }
  },
  "cells": [
    {
      "cell_type": "markdown",
      "metadata": {
        "id": "view-in-github",
        "colab_type": "text"
      },
      "source": [
        "<a href=\"https://colab.research.google.com/github/Herzeg137/Q-A-Python/blob/main/List_Q%26A.ipynb\" target=\"_parent\"><img src=\"https://colab.research.google.com/assets/colab-badge.svg\" alt=\"Open In Colab\"/></a>"
      ]
    },
    {
      "cell_type": "code",
      "execution_count": null,
      "metadata": {
        "id": "gLzvUUEEL5SY"
      },
      "outputs": [],
      "source": [
        "#1 exercise\n",
        "#Reversing\n",
        "list1 = [100, 200, 300, 400, 500]\n",
        "#output must be: [500, 400, 300, 200, 100]\n",
        "list1.reverse()\n",
        "print(list1)"
      ]
    },
    {
      "cell_type": "code",
      "source": [
        "#other way of 1 exe\n",
        "list1 = [100, 200, 300, 400, 500]\n",
        "\n",
        "#output must be: [500, 400, 300, 200, 100]\n",
        "print(list1[::-1])"
      ],
      "metadata": {
        "id": "ynmln_82Q8fj"
      },
      "execution_count": null,
      "outputs": []
    },
    {
      "cell_type": "code",
      "source": [
        "#2 exer\n",
        "#Concatenate two lists index-wise\n",
        "list1 = [\"M\", \"na\", \"i\", \"Ke\"]\n",
        "list2 = [\"y\", \"me\", \"s\", \"lly\"]\n",
        "\n",
        "#output should be: ['My', 'name', 'is', 'Kelly']\n",
        "res = [i + j for i, j in zip(list1, list2)]\n",
        "print(res)"
      ],
      "metadata": {
        "id": "oPDuXT5NQ8xV"
      },
      "execution_count": null,
      "outputs": []
    },
    {
      "cell_type": "code",
      "source": [
        "#3 exer\n",
        "#Turn every item of a list into its square\n",
        "numbers = [1, 2, 3, 4, 5, 6, 7]\n",
        "#output must be: [1, 4, 9, 16, 25, 36, 49]\n",
        "\n",
        "def square(numbers):\n",
        "    return [i ** 2 for i in numbers]\n",
        "print(square(numbers))"
      ],
      "metadata": {
        "id": "Q4ZjxMa3Q8yS"
      },
      "execution_count": null,
      "outputs": []
    },
    {
      "cell_type": "code",
      "source": [
        "#3 exer \n",
        "#2 method\n",
        "numbers = [1, 2, 3, 4, 5, 6, 7]\n",
        "#output must be: [1, 4, 9, 16, 25, 36, 49]\n",
        "\n",
        "def square(numbers):\n",
        "    squares = []\n",
        "    for i in numbers:\n",
        "        squares.append(i**2)\n",
        "    return squares\n",
        "print(square(numbers))"
      ],
      "metadata": {
        "id": "DIrACWcOQ8zW"
      },
      "execution_count": null,
      "outputs": []
    },
    {
      "cell_type": "code",
      "source": [
        "#3 exer\n",
        "#3 method\n",
        "numbers = [1, 2, 3, 4, 5, 6, 7]\n",
        "#output must be: [1, 4, 9, 16, 25, 36, 49]\n",
        "\n",
        "res = [x * x for x in numbers]\n",
        "print(res)"
      ],
      "metadata": {
        "id": "e1u_B15-aT_m"
      },
      "execution_count": null,
      "outputs": []
    },
    {
      "cell_type": "code",
      "source": [
        "#4 exer\n",
        "#Concatenate two lists in the following order\n",
        "list1 = [\"Hello \", \"take \"]\n",
        "list2 = [\"Dear\", \"Sir\"]\n",
        "#output must be: ['Hello Dear', 'Hello Sir', 'take Dear', 'take Sir']\n",
        "\n",
        "res = [x + y for x in list1 for y in list2]\n",
        "print(res)"
      ],
      "metadata": {
        "id": "Wmlw7NmYQ80U"
      },
      "execution_count": null,
      "outputs": []
    },
    {
      "cell_type": "code",
      "source": [
        "#5 exer\n",
        "#Iterate both lists simultaneously\n",
        "list1 = [10, 20, 30, 40]\n",
        "list2 = [100, 200, 300, 400]\n",
        "#output must be:\n",
        "# 10 400\n",
        "# 20 300\n",
        "# 30 200\n",
        "# 40 100\n",
        "for (a, b) in zip(list1, list2[::-1]):\n",
        "     print (a, b)\n",
        "#Note: full article: \n",
        "https://www.geeksforgeeks.org/python-iterate-multiple-lists-simultaneously/"
      ],
      "metadata": {
        "id": "A5ZyclTIQ82V"
      },
      "execution_count": null,
      "outputs": []
    },
    {
      "cell_type": "code",
      "source": [
        "#6 exer\n",
        "#Remove empty strings from the list of strings\n",
        "list1 = [\"Mike\", \"\", \"Emma\", \"Kelly\", \"\", \"Brad\"]\n",
        "#output must be: [\"Mike\", \"Emma\", \"Kelly\", \"Brad\"]\n",
        "\n",
        "res = list(filter(None, list1))\n",
        "print(res)"
      ],
      "metadata": {
        "id": "FT52rWxEQ83w"
      },
      "execution_count": null,
      "outputs": []
    },
    {
      "cell_type": "code",
      "source": [
        "#7 exer\n",
        "#Add new item to list after a specified item\n",
        "list1 = [10, 20, [300, 400, [5000, 6000], 500], 30, 40]\n",
        "#output must be: [10, 20, [300, 400, [5000, 6000, 7000], 500], 30, 40]\n",
        "list1[2][2].append(7000)\n",
        "print(list1)"
      ],
      "metadata": {
        "id": "r8Xd3zdEL62V"
      },
      "execution_count": null,
      "outputs": []
    },
    {
      "cell_type": "code",
      "source": [
        "#8 exer\n",
        "#Extend nested list by adding the sublist\n",
        "list1 = [\"a\", \"b\", [\"c\", [\"d\", \"e\", [\"f\", \"g\"], \"k\"], \"l\"], \"m\", \"n\"]\n",
        "\n",
        "can't"
      ],
      "metadata": {
        "id": "7yCpU7CbL643"
      },
      "execution_count": null,
      "outputs": []
    },
    {
      "cell_type": "code",
      "source": [
        "#9 exer\n",
        "#Replace list’s item with new value if found\n",
        "list1 = [5, 10, 15, 20, 25, 50, 20]\n",
        "#output must be: [5, 10, 15, 200, 25, 50, 20]\n",
        "\n",
        "index = list1.index(20)\n",
        "\n",
        "list1[index] = 200\n",
        "print(list1)"
      ],
      "metadata": {
        "id": "N7cTWKguL67-"
      },
      "execution_count": null,
      "outputs": []
    },
    {
      "cell_type": "code",
      "source": [
        "#10 exer\n",
        "#Remove all occurrences of a specific item from a list.\n",
        "list1 = [5, 20, 15, 20, 25, 50, 20]\n",
        "#output must be: [5, 15, 25, 50]\n",
        "\n",
        "while 20 in list1:\n",
        "    list1.remove(20)\n",
        "print(list1)"
      ],
      "metadata": {
        "id": "erTCWHkML6-N"
      },
      "execution_count": null,
      "outputs": []
    }
  ]
}