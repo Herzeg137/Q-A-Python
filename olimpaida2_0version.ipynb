{
  "nbformat": 4,
  "nbformat_minor": 0,
  "metadata": {
    "colab": {
      "provenance": [],
      "authorship_tag": "ABX9TyN/pv5jrxxDvoy6zDFgtFR8",
      "include_colab_link": true
    },
    "kernelspec": {
      "name": "python3",
      "display_name": "Python 3"
    },
    "language_info": {
      "name": "python"
    }
  },
  "cells": [
    {
      "cell_type": "markdown",
      "metadata": {
        "id": "view-in-github",
        "colab_type": "text"
      },
      "source": [
        "<a href=\"https://colab.research.google.com/github/Herzeg137/Q-A-Python/blob/main/olimpaida2_0version.ipynb\" target=\"_parent\"><img src=\"https://colab.research.google.com/assets/colab-badge.svg\" alt=\"Open In Colab\"/></a>"
      ]
    },
    {
      "cell_type": "code",
      "source": [
        "#1-masala:\n",
        "n = int(input(\"O'quvchilar soni: \")) #o'quvchilar soni\n",
        "m = int(input(\"Stullar soni: \")) #stullar soni\n",
        "#output: O'quvchilar ko'p bo'lsa yana nechta stul kerak?\n",
        "\n",
        "if n > m:\n",
        "  x = n - m\n",
        "  print(x, 'ta stullar kerak')\n",
        "elif n == m:\n",
        "  print(0)\n",
        "else:\n",
        "  print(\"Stullar ko'proq\")"
      ],
      "metadata": {
        "id": "VLEtp0Vq08V3"
      },
      "execution_count": null,
      "outputs": []
    },
    {
      "cell_type": "code",
      "source": [
        "#2-masala\n",
        "#1-metod => for loop \n",
        "n = int(input(\"Qavatlar sonini kiriting: \" )) #Mehmonxonaning qavatlar soni\n",
        "i = 1 #Xonalar soni\n",
        "count = 0 #qoshish uchun\n",
        "\n",
        "if n <= 0:\n",
        "  print(\"To'g'ri kelmaydi\")\n",
        "\n",
        "elif n == 1:\n",
        "  print('Umumiy xonalar soni 1 ta')\n",
        "\n",
        "else:\n",
        "  for a in range(i, n+1):\n",
        "    res = a*a\n",
        "    print(res, 'xonalar soni')\n",
        "    count += res\n",
        "  print(count, 'umumiy xonalar')"
      ],
      "metadata": {
        "id": "WqS8a5rY1o1k"
      },
      "execution_count": null,
      "outputs": []
    },
    {
      "cell_type": "code",
      "source": [
        "#2-masala\n",
        "#2-metod => while loop\n",
        "n = int(input(\"Qavatlar sonini kiriting: \" ))\n",
        "i = 1\n",
        "count = 0\n",
        "\n",
        "if n <= 0:\n",
        "  print(\"To'g'ri kelmaydi\")\n",
        "\n",
        "elif n == 1:\n",
        "  print('Umumiy xonalar soni 1 ta')\n",
        "\n",
        "else:\n",
        "  while i <= n:\n",
        "    res = i*i\n",
        "    print(res, 'xonalar soni')\n",
        "    i += 1\n",
        "    count += res\n",
        "  print(count, 'umumiy xonalar')"
      ],
      "metadata": {
        "id": "RQ7vmz1Fts9G"
      },
      "execution_count": null,
      "outputs": []
    },
    {
      "cell_type": "code",
      "source": [
        "#2-masala\n",
        "#3-metod => while loop + sum() function\n",
        "n = int(input(\"Qavatlar sonini kiriting: \" ))\n",
        "i = 1\n",
        "count = 0\n",
        "\n",
        "if n <= 0:\n",
        "  print(\"To'g'ri kelmaydi\")\n",
        "\n",
        "elif n == 1:\n",
        "  print('Umumiy xonalar soni 1 ta')\n",
        "\n",
        "else:\n",
        "  output = []\n",
        "  while i <=n:\n",
        "    res = i*i\n",
        "    print('xonalar : ', res)\n",
        "    output.append(res)\n",
        "    i += 1\n",
        "  print('Umumiy xonalar: ', sum(output))"
      ],
      "metadata": {
        "id": "UATl-va_ttAB"
      },
      "execution_count": null,
      "outputs": []
    },
    {
      "cell_type": "code",
      "source": [
        "#3-masalani chunish\n",
        "1_kun = n ta masala\n",
        "k_kuni = 1 ta masala\n",
        "k2_kuni = yana 1 ta masala\n",
        "\n",
        "sardor_mezoni = kuniga = 1 dona masala\n",
        "\n",
        "nechta kunda sardor masalalari tugaydi?\n",
        "\n",
        "1_kun sardor 1 masalani qiladi, 2 ta masala qoldi. Buning uchun 2 kun ketadi. lekin 3- kuni 1 dona masala qoshiladi. 4_kuni ham qoshiladi.\n",
        "\n",
        "k <= 100\n",
        "n >= 2\n",
        "\n",
        "k masalalar ni ishlash uchun 100 kun ketadi qolganiga masala ermidi.\n",
        "n larni bajarish uchun 3 kun. 3-kun esa k masalalar boshlanadi. shunda 3(kun) + 100(kun) = 103 kun"
      ],
      "metadata": {
        "id": "JtRywsLjJiIt"
      },
      "execution_count": null,
      "outputs": []
    },
    {
      "cell_type": "code",
      "source": [
        "#3-masala yechimi\n",
        "n = 1\n",
        "count = 0\n",
        "k = 100\n",
        "\n",
        "while n <= 3:\n",
        "  if n == 3:\n",
        "    print(count + k)\n",
        "  count += n\n",
        "  n += 1"
      ],
      "metadata": {
        "id": "oNisp_9MNap-"
      },
      "execution_count": null,
      "outputs": []
    },
    {
      "cell_type": "code",
      "source": [
        "#4-masala sharti\n",
        "otlar soni = n ta\n",
        "eng ogir otlar soni = k ta\n",
        "ot ogirligi = i1, i2, i3, ...\n",
        "eng og'ir otlar = k1, k2, k3\n",
        "\n",
        "javob: k1 + k2 + k3\n",
        "\n",
        "berilganlar:\n",
        "\n",
        "otlar soni = 5 ta\n",
        "eng ogir otlar soni = 3\n",
        "ot ogirligi = 12 30 7 43 2\n",
        "eng ogir otlar = 43 30 12"
      ],
      "metadata": {
        "id": "x7dIMMuHWAKe"
      },
      "execution_count": null,
      "outputs": []
    },
    {
      "cell_type": "code",
      "source": [
        "#4-masala yechilishi\n",
        "\n",
        "#qiymatlar\n",
        "i = [12,30,7,43,2]\n",
        "\n",
        "#TOP3 semizlarini olish\n",
        "k = sorted(i, reverse = True)[:3]\n",
        "\n",
        "#TOP3 larni bir biriga qo'shish\n",
        "k1, k2, k3 = t\n",
        "print(k1 + k2 + k3)"
      ],
      "metadata": {
        "id": "k1ZelpfKmmbp"
      },
      "execution_count": null,
      "outputs": []
    },
    {
      "cell_type": "code",
      "source": [
        "#6-masala\n",
        "#berilgan list ga 5 raqamini 0-index ga qo'shish kerak. \n",
        "#agar list da boshqa indexda 5 raqami bolsa aynan oshani ochirib tashlash kerak.\n",
        "\n",
        "#5 ni qo'shish\n",
        "#bu ishni append bilan qilomimiz. ishlatsak 5 ni eng oxiriga qoyadi\n",
        "i = [6,8,10,5,2]\n",
        "i.insert(0, 5)\n",
        "\n",
        "#qolgan 5 ni ochirish\n",
        "res = []\n",
        "for a in i:\n",
        "    if a not in res:\n",
        "        res.append(a)\n",
        "\n",
        "print(res)"
      ],
      "metadata": {
        "id": "64ztTrZ9rccu"
      },
      "execution_count": null,
      "outputs": []
    }
  ]
}