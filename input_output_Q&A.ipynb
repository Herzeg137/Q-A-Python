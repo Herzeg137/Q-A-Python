{
  "nbformat": 4,
  "nbformat_minor": 0,
  "metadata": {
    "colab": {
      "private_outputs": true,
      "provenance": [],
      "authorship_tag": "ABX9TyP+vZlChW2lM2ldRVyUR8IV",
      "include_colab_link": true
    },
    "kernelspec": {
      "name": "python3",
      "display_name": "Python 3"
    },
    "language_info": {
      "name": "python"
    }
  },
  "cells": [
    {
      "cell_type": "markdown",
      "metadata": {
        "id": "view-in-github",
        "colab_type": "text"
      },
      "source": [
        "<a href=\"https://colab.research.google.com/github/Herzeg137/Q-A-Python/blob/main/input_output_Q%26A.ipynb\" target=\"_parent\"><img src=\"https://colab.research.google.com/assets/colab-badge.svg\" alt=\"Open In Colab\"/></a>"
      ]
    },
    {
      "cell_type": "code",
      "execution_count": null,
      "metadata": {
        "id": "Sbib6hhClj_e"
      },
      "outputs": [],
      "source": [
        "#1 exercise\n",
        "a = int(input(\"First number: \"))\n",
        "b = int(input(\"Second number: \"))\n",
        "result = a*b\n",
        "print(\"Multiplying...\")\n",
        "print(\"\\nResult: \", result)"
      ]
    },
    {
      "cell_type": "code",
      "source": [
        "#2 exercise\n",
        "a = \"Name\"\n",
        "b = \"Is\"\n",
        "c = \"James\"\n",
        "\n",
        "print(a,b,c, sep = '**')"
      ],
      "metadata": {
        "id": "6doj7VxPoOjp"
      },
      "execution_count": null,
      "outputs": []
    },
    {
      "cell_type": "code",
      "source": [
        "#3 exercise\n",
        "#10 lik sanoq sistemasidagi sonni octal ya'ni 8 lik sanoq sistemasiga o'tqizish\n",
        "num = 10\n",
        "print('%o' % num)\n"
      ],
      "metadata": {
        "id": "9D1M0hl_oOpd"
      },
      "execution_count": null,
      "outputs": []
    },
    {
      "cell_type": "code",
      "source": [
        "#3 exercise with input\n",
        "print('I will convert deciminal number to octal')\n",
        "num = int(input(\"Enter number \"))\n",
        "print('%o' % num)"
      ],
      "metadata": {
        "id": "yiligXXToOsK"
      },
      "execution_count": null,
      "outputs": []
    },
    {
      "cell_type": "code",
      "source": [
        "#3 exercise other way\n",
        "num = int(input(\"Please enter a number: \"))\n",
        "print(\"Dec to octal\", num, ':', oct(num))"
      ],
      "metadata": {
        "id": "TkQSiAqrqGp2"
      },
      "execution_count": null,
      "outputs": []
    },
    {
      "cell_type": "code",
      "source": [
        "#4 exercise\n",
        "#qoldiqni yaxlitlash uchun\n",
        "num = 458.541315\n",
        "print('%.2f' % num)\n",
        "\n",
        "#Ex: %.2f - float ni yaxlitlash uchun ishlatiladi"
      ],
      "metadata": {
        "id": "usnJ9BN_qGto"
      },
      "execution_count": null,
      "outputs": []
    },
    {
      "cell_type": "code",
      "source": [
        "#5 exercise\n",
        "#Foydalanuvchining 5 ta floatini chiqazish\n",
        "numbers = []\n",
        "\n",
        "flt0 = float(input(\"Please, enter  number \"))\n",
        "flt1 = float(input(\"Something else, with float number \"))\n",
        "flt2 = float(input(\"3 more \"))\n",
        "flt3 = float(input(\"Comon man, don't melt \"))\n",
        "flt4 = float(input(\"done \"))\n",
        "\n",
        "numbers.append(flt0)\n",
        "numbers.append(flt1)\n",
        "numbers.append(flt2)\n",
        "numbers.append(flt3)\n",
        "numbers.append(flt4)\n",
        "print(numbers)"
      ],
      "metadata": {
        "id": "ehEeEZMG6wIH"
      },
      "execution_count": null,
      "outputs": []
    },
    {
      "cell_type": "code",
      "source": [
        "#6 exercise\n",
        "#Berilgan .txt faylinning 6 qatorini ochirib tashlash\n",
        "\n",
        "#creating and writing .txt file\n",
        "with open('test.txt', 'r+') as f:\n",
        "  f.write('line1\\n')\n",
        "  f.write('line2\\n')\n",
        "  f.write('line3\\n')\n",
        "  f.write('line4\\n')\n",
        "  f.write('line5\\n')\n",
        "  f.write('line6\\n')\n",
        "  f.write('line7\\n')\n",
        "  f.close()"
      ],
      "metadata": {
        "id": "uLEVmqwkqGx0"
      },
      "execution_count": null,
      "outputs": []
    },
    {
      "cell_type": "code",
      "source": [
        "#6 exerices continue\n",
        "#deleting item\n",
        "  with open(\"test.txt\", \"r\") as f:\n",
        "      \n",
        "    # read data line by line \n",
        "    data = f.readlines()\n",
        "\n",
        "with open(\"test.txt\", \"w\") as f:\n",
        "   for line in data :\n",
        "          \n",
        "        # condition for data to be deleted\n",
        "        if line.strip(\"\\n\") != \"line6\" : \n",
        "            f.write(line)"
      ],
      "metadata": {
        "id": "H0AMG5DIqG5l"
      },
      "execution_count": null,
      "outputs": []
    },
    {
      "cell_type": "code",
      "source": [
        "#7 exercise\n",
        "#Kiritilgan 3 ta ismni ajratish\n",
        "names = input(\"Enter 1 name \")\n",
        "name2 = input(\"Enter 1 name \")\n",
        "name3 = input(\"Enter 1 name \")\n",
        "print('Name1: ', names)\n",
        "print('Name2: ', name2)\n",
        "print('Name3: ', name3)"
      ],
      "metadata": {
        "id": "ZmWwToeAqG9D"
      },
      "execution_count": null,
      "outputs": []
    },
    {
      "cell_type": "code",
      "source": [
        "#other way of 7 exer\n",
        "words = input(\"enter 3 names \").split()\n",
        "if len(words) != 3:\n",
        "   raise ValueError(\"Not three words provided\")\n",
        "str1, str2, str3 = words\n",
        "print('first name: ', str1)\n",
        "print('second name: ', str2)\n",
        "print('third name: ', str3)"
      ],
      "metadata": {
        "id": "_uHc-8HGxVtW"
      },
      "execution_count": null,
      "outputs": []
    },
    {
      "cell_type": "code",
      "source": [
        "#8 exercise\n",
        "totalMoney = 1000\n",
        "quantity = 3\n",
        "price = 450\n",
        "print(\"I have \", totalMoney, \"dollars so I can buy \", quantity,  \"football for \", float(price),  \"dollars.\")"
      ],
      "metadata": {
        "id": "nBj_zjmOBh_x"
      },
      "execution_count": null,
      "outputs": []
    },
    {
      "cell_type": "code",
      "source": [
        "#9 exercise\n",
        "#Check file, empty or not\n",
        "#Install file\n",
        "#empty = []\n",
        "\n",
        "with open('filename.txt', 'r') as f:\n",
        "  if len(f.readlines()) is 0:\n",
        "    print(\"it\\'s empty\")\n",
        "  else:\n",
        "    print(\"it has smth\")"
      ],
      "metadata": {
        "id": "108WdTSfspt_"
      },
      "execution_count": null,
      "outputs": []
    },
    {
      "cell_type": "code",
      "source": [
        "#10 exer\n",
        "with open(\"/content/text.txt\", \"r+\") as fp:\n",
        "    # read all lines from a file\n",
        "    lines = fp.readlines()\n",
        "    # get line number 3\n",
        "    print(lines[4])"
      ],
      "metadata": {
        "id": "RcxgTeYTspzU"
      },
      "execution_count": null,
      "outputs": []
    }
  ]
}